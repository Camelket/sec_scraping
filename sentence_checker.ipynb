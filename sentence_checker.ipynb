{
 "cells": [
  {
   "cell_type": "code",
   "execution_count": 1,
   "metadata": {},
   "outputs": [],
   "source": [
    "from main.parser.filing_nlp import create_secu_matcher, create_secuquantity_matcher\n",
    "import spacy\n",
    "import logging"
   ]
  },
  {
   "cell_type": "code",
   "execution_count": 2,
   "metadata": {},
   "outputs": [],
   "source": [
    "sentence = \" As of March 31, 2021, we had outstanding warrants to purchase approximately 7,532,390 shares of our common stock, stock options to purchase 2,176,272 shares of our common stock and restricted stock unit awards covering 2,258,982 shares of our common stock under the Xtant Medical Holdings, Inc.\""
   ]
  },
  {
   "cell_type": "code",
   "execution_count": 3,
   "metadata": {},
   "outputs": [
    {
     "data": {
      "text/plain": [
       "<main.parser.filing_nlp.SECUMatcher at 0x15808741600>"
      ]
     },
     "execution_count": 3,
     "metadata": {},
     "output_type": "execute_result"
    }
   ],
   "source": [
    "nlp = spacy.load(\"en_core_web_lg\")\n",
    "nlp.add_pipe(\"secu_matcher\")"
   ]
  },
  {
   "cell_type": "code",
   "execution_count": 4,
   "metadata": {},
   "outputs": [
    {
     "name": "stdout",
     "output_type": "stream",
     "text": [
      "   dep\n",
      "As  prep\n",
      "of  prep\n",
      "March DATE pobj\n",
      "31 DATE nummod\n",
      ", DATE punct\n",
      "2021 DATE nummod\n",
      ",  punct\n",
      "we  nsubj\n",
      "had  ROOT\n",
      "outstanding  amod\n",
      "warrants SECU dobj\n",
      "to  aux\n",
      "purchase  acl\n",
      "approximately CARDINAL advmod\n",
      "7,532,390 CARDINAL nummod\n",
      "shares  dobj\n",
      "of  prep\n",
      "our  poss\n",
      "common stock SECU pobj\n",
      ",  punct\n",
      "stock options SECU nsubj\n",
      "to  aux\n",
      "purchase  conj\n",
      "2,176,272 CARDINAL nummod\n",
      "shares  dobj\n",
      "of  prep\n",
      "our  poss\n",
      "common stock SECU pobj\n",
      "and  cc\n",
      "restricted  conj\n",
      "stock  compound\n",
      "unit  compound\n",
      "awards  dobj\n",
      "covering  acl\n",
      "2,258,982 CARDINAL nummod\n",
      "shares  dobj\n",
      "of  prep\n",
      "our  poss\n",
      "common stock SECU pobj\n",
      "under  prep\n",
      "the ORG det\n",
      "Xtant ORG compound\n",
      "Medical ORG compound\n",
      "Holdings ORG nmod\n",
      ", ORG punct\n",
      "Inc. ORG pobj\n"
     ]
    }
   ],
   "source": [
    "doc = nlp(sentence)\n",
    "for token in doc:\n",
    "    print(token, token.ent_type_, token.dep_)"
   ]
  },
  {
   "cell_type": "code",
   "execution_count": 5,
   "metadata": {},
   "outputs": [
    {
     "data": {
      "text/plain": [
       "<main.parser.filing_nlp.SECUQuantityMatcher at 0x15809ccb7f0>"
      ]
     },
     "execution_count": 5,
     "metadata": {},
     "output_type": "execute_result"
    }
   ],
   "source": [
    "nlp.add_pipe(\"secuquantity_matcher\")"
   ]
  },
  {
   "cell_type": "code",
   "execution_count": 6,
   "metadata": {},
   "outputs": [
    {
     "name": "stdout",
     "output_type": "stream",
     "text": [
      "   dep\n",
      "As  prep\n",
      "of  prep\n",
      "March DATE pobj\n",
      "31 DATE nummod\n",
      ", DATE punct\n",
      "2021 DATE nummod\n",
      ",  punct\n",
      "we  nsubj\n",
      "had  ROOT\n",
      "outstanding  amod\n",
      "warrants SECU dobj\n",
      "to  aux\n",
      "purchase  acl\n",
      "approximately CARDINAL advmod\n",
      "7,532,390 CARDINAL nummod\n",
      "shares  dobj\n",
      "of  prep\n",
      "our  poss\n",
      "common stock SECU pobj\n",
      ",  punct\n",
      "stock options SECU nsubj\n",
      "to  aux\n",
      "purchase  conj\n",
      "2,176,272 SECUQUANTITY nummod\n",
      "shares  dobj\n",
      "of  prep\n",
      "our  poss\n",
      "common stock SECU pobj\n",
      "and  cc\n",
      "restricted  conj\n",
      "stock  compound\n",
      "unit  compound\n",
      "awards  dobj\n",
      "covering  acl\n",
      "2,258,982 SECUQUANTITY nummod\n",
      "shares  dobj\n",
      "of  prep\n",
      "our  poss\n",
      "common stock SECU pobj\n",
      "under  prep\n",
      "the ORG det\n",
      "Xtant ORG compound\n",
      "Medical ORG compound\n",
      "Holdings ORG nmod\n",
      ", ORG punct\n",
      "Inc. ORG pobj\n"
     ]
    }
   ],
   "source": [
    "doc = nlp(sentence)\n",
    "for token in doc:\n",
    "    print(token, token.ent_type_, token.dep_)"
   ]
  }
 ],
 "metadata": {
  "kernelspec": {
   "display_name": "sec_scraping_testing-er4NC4pi",
   "language": "python",
   "name": "python3"
  },
  "language_info": {
   "codemirror_mode": {
    "name": "ipython",
    "version": 3
   },
   "file_extension": ".py",
   "mimetype": "text/x-python",
   "name": "python",
   "nbconvert_exporter": "python",
   "pygments_lexer": "ipython3",
   "version": "3.10.1 (tags/v3.10.1:2cd268a, Dec  6 2021, 19:10:37) [MSC v.1929 64 bit (AMD64)]"
  },
  "orig_nbformat": 4,
  "vscode": {
   "interpreter": {
    "hash": "6071678dbb69e107a06c616957bae4c441d4d322577d1f6af58eab6659c9cd7d"
   }
  }
 },
 "nbformat": 4,
 "nbformat_minor": 2
}
