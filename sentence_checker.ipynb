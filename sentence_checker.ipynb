{
 "cells": [
  {
   "cell_type": "code",
   "execution_count": null,
   "metadata": {},
   "outputs": [],
   "source": [
    "from main.parser.filing_nlp import SECUMatcher"
   ]
  }
 ],
 "metadata": {
  "kernelspec": {
   "display_name": "sec_scraping_testing-er4NC4pi",
   "language": "python",
   "name": "python3"
  },
  "language_info": {
   "name": "python",
   "version": "3.10.1 (tags/v3.10.1:2cd268a, Dec  6 2021, 19:10:37) [MSC v.1929 64 bit (AMD64)]"
  },
  "orig_nbformat": 4,
  "vscode": {
   "interpreter": {
    "hash": "6071678dbb69e107a06c616957bae4c441d4d322577d1f6af58eab6659c9cd7d"
   }
  }
 },
 "nbformat": 4,
 "nbformat_minor": 2
}
